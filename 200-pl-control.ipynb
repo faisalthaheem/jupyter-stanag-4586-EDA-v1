{
 "cells": [
  {
   "cell_type": "markdown",
   "id": "1bc7a0fe",
   "metadata": {},
   "source": [
    "#### Import dependencies"
   ]
  },
  {
   "cell_type": "code",
   "execution_count": 1,
   "id": "77559ebd",
   "metadata": {},
   "outputs": [],
   "source": [
    "%run common-network.ipynb"
   ]
  },
  {
   "cell_type": "code",
   "execution_count": 2,
   "id": "b7224998",
   "metadata": {},
   "outputs": [],
   "source": [
    "from stanag4586edav1.message_wrapper import *\n",
    "from stanag4586edav1.message200 import *"
   ]
  },
  {
   "cell_type": "markdown",
   "id": "82ee6650",
   "metadata": {},
   "source": [
    "#### SEND 200 control MESSAGE"
   ]
  },
  {
   "cell_type": "code",
   "execution_count": 3,
   "id": "988fbd91",
   "metadata": {},
   "outputs": [],
   "source": [
    "import math"
   ]
  },
  {
   "cell_type": "code",
   "execution_count": 4,
   "id": "938c58f0",
   "metadata": {},
   "outputs": [],
   "source": [
    "setup_networking(2.0)"
   ]
  },
  {
   "cell_type": "code",
   "execution_count": 5,
   "id": "dcdf8083",
   "metadata": {},
   "outputs": [],
   "source": [
    "msg200 = Message200(Message200.MSGNULL)"
   ]
  },
  {
   "cell_type": "code",
   "execution_count": 6,
   "id": "b4573c21",
   "metadata": {},
   "outputs": [],
   "source": [
    "msg200.time_stamp = 0x00\n",
    "msg200.vehicle_id = 0x01\n",
    "msg200.cucs_id = 0xA0\n",
    "msg200.station_number = 0x01\n",
    "msg200.set_centreline_azimuth_angle = math.radians(135)\n",
    "msg200.set_centreline_elevation_angle = math.radians(110)\n",
    "msg200.set_zoom = 0x03\n",
    "msg200.set_horizontal_fov = 33.0\n",
    "msg200.set_vertical_fov = 33.0\n",
    "msg200.horizontal_slew_rate = 33.0\n",
    "msg200.vertical_slew_rate = 33.0\n",
    "msg200.latitude = 25.0\n",
    "msg200.longitude = 25.0\n",
    "msg200.altitude = 33.0\n",
    "msg200.altitude_type = 2\n",
    "msg200.set_focus = 1\n",
    "msg200.focus_type = 1"
   ]
  },
  {
   "cell_type": "markdown",
   "id": "2a2e5385",
   "metadata": {},
   "source": [
    "# Send Pan request"
   ]
  },
  {
   "cell_type": "code",
   "execution_count": 7,
   "id": "567f17d4",
   "metadata": {},
   "outputs": [],
   "source": [
    "wrapper = MessageWrapper(MessageWrapper.MSGNULL)"
   ]
  },
  {
   "cell_type": "code",
   "execution_count": 8,
   "id": "737886ff",
   "metadata": {},
   "outputs": [],
   "source": [
    "encoded_msg = wrapper.wrap_message(1, 200, msg200, False)"
   ]
  },
  {
   "cell_type": "code",
   "execution_count": 9,
   "id": "1844e655",
   "metadata": {},
   "outputs": [],
   "source": [
    "num_bytes_tx = sock_tx.sendto(encoded_msg, mc_tx)"
   ]
  },
  {
   "cell_type": "code",
   "execution_count": 10,
   "id": "4dc66138",
   "metadata": {},
   "outputs": [
    {
     "name": "stdout",
     "output_type": "stream",
     "text": [
      "98\n"
     ]
    }
   ],
   "source": [
    "print(num_bytes_tx)"
   ]
  },
  {
   "cell_type": "markdown",
   "id": "e3502dba",
   "metadata": {},
   "source": [
    "#### Wait for response"
   ]
  }
 ],
 "metadata": {
  "interpreter": {
   "hash": "916dbcbb3f70747c44a77c7bcd40155683ae19c65e1c03b4aa3499c5328201f1"
  },
  "kernelspec": {
   "display_name": "Python 3 (ipykernel)",
   "language": "python",
   "name": "python3"
  },
  "language_info": {
   "codemirror_mode": {
    "name": "ipython",
    "version": 3
   },
   "file_extension": ".py",
   "mimetype": "text/x-python",
   "name": "python",
   "nbconvert_exporter": "python",
   "pygments_lexer": "ipython3",
   "version": "3.8.10"
  }
 },
 "nbformat": 4,
 "nbformat_minor": 5
}
