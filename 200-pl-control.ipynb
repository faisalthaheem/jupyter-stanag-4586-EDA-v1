{
 "cells": [
  {
   "cell_type": "markdown",
   "metadata": {},
   "source": [
    "#### Import dependencies"
   ]
  },
  {
   "cell_type": "code",
   "execution_count": 45,
   "metadata": {},
   "outputs": [],
   "source": [
    "%run common-network.ipynb"
   ]
  },
  {
   "cell_type": "code",
   "execution_count": 46,
   "metadata": {},
   "outputs": [],
   "source": [
    "from stanag4586edav1.message_wrapper import *\n",
    "from stanag4586edav1.message200 import *"
   ]
  },
  {
   "cell_type": "markdown",
   "metadata": {},
   "source": [
    "#### SEND 200 control MESSAGE"
   ]
  },
  {
   "cell_type": "code",
   "execution_count": 47,
   "metadata": {},
   "outputs": [],
   "source": [
    "setup_networking(2.0)"
   ]
  },
  {
   "cell_type": "code",
   "execution_count": 48,
   "metadata": {},
   "outputs": [],
   "source": [
    "msg200 = Message200(MSG200_NULL)"
   ]
  },
  {
   "cell_type": "code",
   "execution_count": 49,
   "metadata": {},
   "outputs": [],
   "source": [
    "msg200.time_stamp = 0x00\n",
    "msg200.vehicle_id = 0x01\n",
    "msg200.cucs_id = 0xA0\n",
    "msg200.station_number = 0x01\n",
    "msg200.set_centreline_azimuth_angle = 33.0\n",
    "msg200.set_centreline_elevation_angle = 33.0\n",
    "msg200.set_zoom = 0x03\n",
    "msg200.set_horizontal_fov = 33.0\n",
    "msg200.set_vertical_fov = 33.0\n",
    "msg200.horizontal_slew_rate = 33.0\n",
    "msg200.vertical_slew_rate = 33.0\n",
    "msg200.latitude = 25.0\n",
    "msg200.longitude = 25.0\n",
    "msg200.altitude = 33.0\n",
    "msg200.altitude_type = 2\n",
    "msg200.set_focus = 1\n",
    "msg200.focus_type = 1"
   ]
  },
  {
   "cell_type": "markdown",
   "metadata": {},
   "source": [
    "# Send monitor request"
   ]
  },
  {
   "cell_type": "code",
   "execution_count": 50,
   "metadata": {},
   "outputs": [],
   "source": [
    "wrapper = MessageWrapper(MESSAGE_WRAPPER_NULL)"
   ]
  },
  {
   "cell_type": "code",
   "execution_count": 51,
   "metadata": {},
   "outputs": [],
   "source": [
    "encoded_msg = wrapper.wrap_message(1, 0x200, msg200, False)"
   ]
  },
  {
   "cell_type": "code",
   "execution_count": 52,
   "metadata": {},
   "outputs": [],
   "source": [
    "num_bytes_tx = sock_tx.sendto(encoded_msg, mc_tx)"
   ]
  },
  {
   "cell_type": "code",
   "execution_count": 53,
   "metadata": {},
   "outputs": [
    {
     "name": "stdout",
     "output_type": "stream",
     "text": [
      "98\n"
     ]
    }
   ],
   "source": [
    "print(num_bytes_tx)"
   ]
  },
  {
   "cell_type": "markdown",
   "metadata": {},
   "source": [
    "#### Wait for response"
   ]
  },
  {
   "cell_type": "code",
   "execution_count": 54,
   "metadata": {},
   "outputs": [
    {
     "name": "stdout",
     "output_type": "stream",
     "text": [
      "Begin waiting for [1] messages\n",
      "Timed out waiting for msg#0, will not wait for any other messages.\n",
      "End waiting for [1] messages\n"
     ]
    }
   ],
   "source": [
    "response = do_rx(1)"
   ]
  }
 ],
 "metadata": {
  "interpreter": {
   "hash": "916dbcbb3f70747c44a77c7bcd40155683ae19c65e1c03b4aa3499c5328201f1"
  },
  "kernelspec": {
   "display_name": "Python 3.8.5 64-bit",
   "name": "python3"
  },
  "language_info": {
   "codemirror_mode": {
    "name": "ipython",
    "version": 3
   },
   "file_extension": ".py",
   "mimetype": "text/x-python",
   "name": "python",
   "nbconvert_exporter": "python",
   "pygments_lexer": "ipython3",
   "version": "3.8.5"
  }
 },
 "nbformat": 4,
 "nbformat_minor": 5
}