{
 "cells": [
  {
   "cell_type": "markdown",
   "id": "b3048490",
   "metadata": {},
   "source": [
    "#### Import dependencies"
   ]
  },
  {
   "cell_type": "code",
   "execution_count": 11,
   "id": "dcc9318f",
   "metadata": {},
   "outputs": [],
   "source": [
    "%run common-network.ipynb"
   ]
  },
  {
   "cell_type": "code",
   "execution_count": 12,
   "id": "5a26a0e3",
   "metadata": {},
   "outputs": [],
   "source": [
    "from stanag4586edav1.message_wrapper import *\n",
    "from stanag4586edav1.message20010 import *"
   ]
  },
  {
   "cell_type": "markdown",
   "id": "c401397d",
   "metadata": {},
   "source": [
    "### Prepare"
   ]
  },
  {
   "cell_type": "code",
   "execution_count": 13,
   "id": "adabdf7f",
   "metadata": {},
   "outputs": [],
   "source": [
    "setup_networking(2.0)"
   ]
  },
  {
   "cell_type": "code",
   "execution_count": 14,
   "id": "55e6040e",
   "metadata": {},
   "outputs": [],
   "source": [
    "msg20010 = Message20010(Message20010.MSGNULL)"
   ]
  },
  {
   "cell_type": "code",
   "execution_count": 15,
   "id": "bc14820e",
   "metadata": {},
   "outputs": [],
   "source": [
    "msg20010.time_stamp = 0x00\n",
    "msg20010.vehicle_id = 0x01\n",
    "msg20010.cucs_id = 0xA0\n",
    "msg20010.station_number = 0x01\n",
    "msg20010.query_type = Message20010.QUERY_TYPE_SEND_CONFIG"
   ]
  },
  {
   "cell_type": "markdown",
   "id": "afc23204",
   "metadata": {},
   "source": [
    "### Send config query request"
   ]
  },
  {
   "cell_type": "code",
   "execution_count": 16,
   "id": "aa5ec11f",
   "metadata": {},
   "outputs": [],
   "source": [
    "wrapper = MessageWrapper(MessageWrapper.MSGNULL)"
   ]
  },
  {
   "cell_type": "code",
   "execution_count": 17,
   "id": "5a44f14c",
   "metadata": {},
   "outputs": [],
   "source": [
    "encoded_msg = wrapper.wrap_message(1, 20010, msg20010, False)"
   ]
  },
  {
   "cell_type": "code",
   "execution_count": 18,
   "id": "b5cfee2e",
   "metadata": {},
   "outputs": [],
   "source": [
    "num_bytes_tx = sock_tx.sendto(encoded_msg, mc_tx)"
   ]
  },
  {
   "cell_type": "code",
   "execution_count": 19,
   "id": "b8a37aef",
   "metadata": {},
   "outputs": [
    {
     "name": "stdout",
     "output_type": "stream",
     "text": [
      "51\n"
     ]
    }
   ],
   "source": [
    "print(num_bytes_tx)"
   ]
  },
  {
   "cell_type": "markdown",
   "id": "95706ce3",
   "metadata": {},
   "source": [
    "#### Wait for response"
   ]
  },
  {
   "cell_type": "code",
   "execution_count": 20,
   "id": "a917f487",
   "metadata": {},
   "outputs": [
    {
     "name": "stdout",
     "output_type": "stream",
     "text": [
      "Begin waiting for [1] messages\n",
      "Got message #1 [20020] with payload len [451]\n",
      "\u001b[35mpyhexdump: 451 bytes\n",
      "ascii characters: GREEN\n",
      "non-ascii: RED\n",
      "\u001b[34mOffset(h) | 00 01 02 03 04 05 06 07 08 09 0A 0B 0C 0D 0E 0F | String\n",
      "--------------------------------------------------------------------------------\u001b[39m\n",
      "\u001b[34m000000000 | \u001b[39m31 32 00 00 00 00 00 00 00 00 00 00 00 01 00 00 \u001b[32m| 12\u001b[31m.\u001b[32m\u001b[31m.\u001b[32m\u001b[31m.\u001b[32m\u001b[31m.\u001b[32m\u001b[31m.\u001b[32m\u001b[31m.\u001b[32m\u001b[31m.\u001b[32m\u001b[31m.\u001b[32m\u001b[31m.\u001b[32m\u001b[31m.\u001b[32m\u001b[31m.\u001b[32m\u001b[31m.\u001b[32m\u001b[31m.\u001b[32m\u001b[31m.\u001b[32m\u001b[39m\n",
      "\u001b[34m000000001 | \u001b[39m4E 34 00 00 01 A5 00 00 00 00 00 00 00 00 00 00 \u001b[32m| N4\u001b[31m.\u001b[32m\u001b[31m.\u001b[32m\u001b[31m.\u001b[32m\u001b[31m.\u001b[32m\u001b[31m.\u001b[32m\u001b[31m.\u001b[32m\u001b[31m.\u001b[32m\u001b[31m.\u001b[32m\u001b[31m.\u001b[32m\u001b[31m.\u001b[32m\u001b[31m.\u001b[32m\u001b[31m.\u001b[32m\u001b[31m.\u001b[32m\u001b[31m.\u001b[32m\u001b[39m\n",
      "\u001b[34m000000002 | \u001b[39m00 00 00 00 00 00 00 00 00 01 00 00 00 A0 00 00 \u001b[32m| \u001b[31m.\u001b[32m\u001b[31m.\u001b[32m\u001b[31m.\u001b[32m\u001b[31m.\u001b[32m\u001b[31m.\u001b[32m\u001b[31m.\u001b[32m\u001b[31m.\u001b[32m\u001b[31m.\u001b[32m\u001b[31m.\u001b[32m\u001b[31m.\u001b[32m\u001b[31m.\u001b[32m\u001b[31m.\u001b[32m\u001b[31m.\u001b[32m\u001b[31m.\u001b[32m\u001b[31m.\u001b[32m\u001b[31m.\u001b[32m\u001b[39m\n",
      "\u001b[34m000000003 | \u001b[39m00 01 14 7B 22 64 61 79 6C 69 67 68 74 22 3A 20 \u001b[32m| \u001b[31m.\u001b[32m\u001b[31m.\u001b[32m\u001b[31m.\u001b[32m{\"daylight\": \u001b[39m\n",
      "\u001b[34m000000004 | \u001b[39m22 72 74 73 70 3A 2F 2F 31 32 37 2E 30 2E 30 2E \u001b[32m| \"rtsp://127.0.0.\u001b[39m\n",
      "\u001b[34m000000005 | \u001b[39m31 3A 38 35 35 34 2F 6C 69 76 65 22 7D 20 20 20 \u001b[32m| 1:8554/live\"}   \u001b[39m\n",
      "\u001b[34m000000006 | \u001b[39m20 20 20 20 20 20 20 20 20 20 20 20 20 20 20 20 \u001b[32m|                 \u001b[39m\n",
      "\u001b[34m000000007 | \u001b[39m20 20 20 20 20 20 20 20 20 20 20 20 20 20 20 20 \u001b[32m|                 \u001b[39m\n",
      "\u001b[34m000000008 | \u001b[39m20 20 20 20 20 20 20 20 20 20 20 20 20 20 20 20 \u001b[32m|                 \u001b[39m\n",
      "\u001b[34m000000009 | \u001b[39m20 20 20 20 20 20 20 20 20 20 20 20 20 20 20 20 \u001b[32m|                 \u001b[39m\n",
      "\u001b[34m00000000A | \u001b[39m20 20 20 20 20 20 20 20 20 20 20 20 20 20 20 20 \u001b[32m|                 \u001b[39m\n",
      "\u001b[34m00000000B | \u001b[39m20 20 20 20 20 20 20 20 20 20 20 20 20 20 20 20 \u001b[32m|                 \u001b[39m\n",
      "\u001b[34m00000000C | \u001b[39m20 20 20 20 20 20 20 20 20 20 20 20 20 20 20 20 \u001b[32m|                 \u001b[39m\n",
      "\u001b[34m00000000D | \u001b[39m20 20 20 20 20 20 20 20 20 20 20 20 20 20 20 20 \u001b[32m|                 \u001b[39m\n",
      "\u001b[34m00000000E | \u001b[39m20 20 20 20 20 20 20 20 20 20 20 20 20 20 20 20 \u001b[32m|                 \u001b[39m\n",
      "\u001b[34m00000000F | \u001b[39m20 20 20 20 20 20 20 20 20 20 20 20 20 20 20 20 \u001b[32m|                 \u001b[39m\n",
      "\u001b[34m000000010 | \u001b[39m20 20 20 20 20 20 20 20 20 20 20 20 20 20 20 20 \u001b[32m|                 \u001b[39m\n",
      "\u001b[34m000000011 | \u001b[39m20 20 20 20 20 20 20 20 20 20 20 20 20 20 20 20 \u001b[32m|                 \u001b[39m\n",
      "\u001b[34m000000012 | \u001b[39m20 20 20 20 20 20 20 20 20 20 20 20 20 20 20 20 \u001b[32m|                 \u001b[39m\n",
      "\u001b[34m000000013 | \u001b[39m20 20 20 20 20 20 20 20 20 20 20 20 20 20 20 20 \u001b[32m|                 \u001b[39m\n",
      "\u001b[34m000000014 | \u001b[39m20 20 20 20 20 20 20 20 20 20 20 20 20 20 20 20 \u001b[32m|                 \u001b[39m\n",
      "\u001b[34m000000015 | \u001b[39m20 20 20 20 20 20 20 20 20 20 20 20 20 20 20 20 \u001b[32m|                 \u001b[39m\n",
      "\u001b[34m000000016 | \u001b[39m20 20 20 20 20 20 20 20 20 20 20 20 20 20 20 20 \u001b[32m|                 \u001b[39m\n",
      "\u001b[34m000000017 | \u001b[39m20 20 20 20 20 20 20 20 20 20 20 20 20 20 20 20 \u001b[32m|                 \u001b[39m\n",
      "\u001b[34m000000018 | \u001b[39m20 20 20 20 20 20 20 20 20 20 20 20 20 20 20 20 \u001b[32m|                 \u001b[39m\n",
      "\u001b[34m000000019 | \u001b[39m20 20 20 20 20 20 20 20 20 20 20 20 20 20 20 20 \u001b[32m|                 \u001b[39m\n",
      "\u001b[34m00000001A | \u001b[39m20 20 20 20 20 20 20 20 20 20 20 20 20 20 20 20 \u001b[32m|                 \u001b[39m\n",
      "\u001b[34m00000001B | \u001b[39m20 20 20 20 20 20 20 20 20 20 20 20 20 20 20 20 \u001b[32m|                 \u001b[39m\n",
      "\u001b[34m00000001C | \u001b[39m20 20 20 00 00 00 00 00 00 00 00 00 00 00 00 00 \u001b[32m|    \u001b[31m.\u001b[32m\u001b[31m.\u001b[32m\u001b[31m.\u001b[32m\u001b[31m.\u001b[32m\u001b[31m.\u001b[32m\u001b[31m.\u001b[32m\u001b[31m.\u001b[32m\u001b[31m.\u001b[32m\u001b[31m.\u001b[32m\u001b[31m.\u001b[32m\u001b[31m.\u001b[32m\u001b[31m.\u001b[32m\u001b[31m.\u001b[32m\u001b[39m\n",
      "End waiting for [1] messages\n"
     ]
    }
   ],
   "source": [
    "response = do_rx(1)"
   ]
  }
 ],
 "metadata": {
  "interpreter": {
   "hash": "916dbcbb3f70747c44a77c7bcd40155683ae19c65e1c03b4aa3499c5328201f1"
  },
  "kernelspec": {
   "display_name": "Python 3 (ipykernel)",
   "language": "python",
   "name": "python3"
  },
  "language_info": {
   "codemirror_mode": {
    "name": "ipython",
    "version": 3
   },
   "file_extension": ".py",
   "mimetype": "text/x-python",
   "name": "python",
   "nbconvert_exporter": "python",
   "pygments_lexer": "ipython3",
   "version": "3.8.10"
  }
 },
 "nbformat": 4,
 "nbformat_minor": 5
}
