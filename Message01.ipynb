{
 "cells": [
  {
   "cell_type": "markdown",
   "id": "2bd6bd38",
   "metadata": {},
   "source": [
    "#### Import dependencies"
   ]
  },
  {
   "cell_type": "code",
   "execution_count": 1,
   "id": "0ce5b508",
   "metadata": {},
   "outputs": [],
   "source": [
    "%run common-network.ipynb"
   ]
  },
  {
   "cell_type": "code",
   "execution_count": 2,
   "id": "a92ad372",
   "metadata": {},
   "outputs": [],
   "source": [
    "from stanag4586edav1.message_wrapper import *\n",
    "from stanag4586edav1.message01 import *"
   ]
  },
  {
   "cell_type": "markdown",
   "id": "8b34c5f6",
   "metadata": {},
   "source": [
    "#### SEND 01 DISCOVER MESSAGE"
   ]
  },
  {
   "cell_type": "code",
   "execution_count": 3,
   "id": "c16ba943",
   "metadata": {},
   "outputs": [],
   "source": [
    "setup_networking(2.0)"
   ]
  },
  {
   "cell_type": "code",
   "execution_count": 4,
   "id": "f7212ed7",
   "metadata": {},
   "outputs": [],
   "source": [
    "msg01 = Message01(MSG01_NULL)"
   ]
  },
  {
   "cell_type": "code",
   "execution_count": 5,
   "id": "252da2f7",
   "metadata": {},
   "outputs": [],
   "source": [
    "msg01.make_discovery_message(0xFAFAFAFA)"
   ]
  },
  {
   "cell_type": "code",
   "execution_count": 6,
   "id": "b05cc69d",
   "metadata": {},
   "outputs": [],
   "source": [
    "wrapper = MessageWrapper(MESSAGE_WRAPPER_NULL)"
   ]
  },
  {
   "cell_type": "code",
   "execution_count": 7,
   "id": "5884ecad",
   "metadata": {},
   "outputs": [],
   "source": [
    "wrapper.wrap_message(1, 0x01, len(msg01.encode()), False)"
   ]
  },
  {
   "cell_type": "code",
   "execution_count": 8,
   "id": "66cf71f9",
   "metadata": {},
   "outputs": [],
   "source": [
    "encoded_msg = wrapper.encode() + msg01.encode()"
   ]
  },
  {
   "cell_type": "code",
   "execution_count": 9,
   "id": "111ad6d8",
   "metadata": {},
   "outputs": [],
   "source": [
    "num_bytes_tx = sock_tx.sendto(encoded_msg, mc_tx)"
   ]
  },
  {
   "cell_type": "code",
   "execution_count": 10,
   "id": "180b0b23",
   "metadata": {},
   "outputs": [
    {
     "name": "stdout",
     "output_type": "stream",
     "text": [
      "65\n"
     ]
    }
   ],
   "source": [
    "print(num_bytes_tx)"
   ]
  },
  {
   "cell_type": "markdown",
   "id": "e465a1cb",
   "metadata": {},
   "source": [
    "#### Wait for response"
   ]
  },
  {
   "cell_type": "code",
   "execution_count": 11,
   "id": "5b1fd414",
   "metadata": {},
   "outputs": [
    {
     "name": "stdout",
     "output_type": "stream",
     "text": [
      "Got message [20]\n"
     ]
    }
   ],
   "source": [
    "response = do_rx()"
   ]
  },
  {
   "cell_type": "code",
   "execution_count": null,
   "id": "3cd9ba92",
   "metadata": {},
   "outputs": [],
   "source": []
  }
 ],
 "metadata": {
  "kernelspec": {
   "display_name": "Python 3",
   "language": "python",
   "name": "python3"
  },
  "language_info": {
   "codemirror_mode": {
    "name": "ipython",
    "version": 3
   },
   "file_extension": ".py",
   "mimetype": "text/x-python",
   "name": "python",
   "nbconvert_exporter": "python",
   "pygments_lexer": "ipython3",
   "version": "3.8.6"
  }
 },
 "nbformat": 4,
 "nbformat_minor": 5
}
