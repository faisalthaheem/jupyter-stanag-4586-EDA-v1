{
 "cells": [
  {
   "cell_type": "markdown",
   "id": "b3048490",
   "metadata": {},
   "source": [
    "#### Import dependencies"
   ]
  },
  {
   "cell_type": "code",
   "execution_count": 7,
   "id": "dcc9318f",
   "metadata": {},
   "outputs": [],
   "source": [
    "%run common-network.ipynb"
   ]
  },
  {
   "cell_type": "code",
   "execution_count": 8,
   "id": "5a26a0e3",
   "metadata": {},
   "outputs": [],
   "source": [
    "from stanag4586edav1.message_wrapper import *\n",
    "from stanag4586edav1.message20000 import *"
   ]
  },
  {
   "cell_type": "markdown",
   "id": "74b9cf2c",
   "metadata": {},
   "source": [
    "#### SEND 200 control MESSAGE"
   ]
  },
  {
   "cell_type": "code",
   "execution_count": 9,
   "id": "adabdf7f",
   "metadata": {},
   "outputs": [],
   "source": [
    "setup_networking(2.0)"
   ]
  },
  {
   "cell_type": "code",
   "execution_count": 10,
   "id": "55e6040e",
   "metadata": {},
   "outputs": [],
   "source": [
    "msg20000 = Message20000(Message20000.MSGNULL)"
   ]
  },
  {
   "cell_type": "code",
   "execution_count": 11,
   "id": "bc14820e",
   "metadata": {},
   "outputs": [],
   "source": [
    "msg20000.time_stamp = 0x00\n",
    "msg20000.vehicle_id = 0x01\n",
    "msg20000.cucs_id = 0xA0\n",
    "msg20000.station_number = 0x01\n",
    "msg20000.pan_force = 0.5\n",
    "msg20000.pan_direction = Message20000.PAN_DIRECTION_NONE\n",
    "msg20000.tilt_force = 0.1\n",
    "msg20000.tilt_direction = Message20000.TILT_DIRECTION_UP\n"
   ]
  },
  {
   "cell_type": "markdown",
   "id": "afc23204",
   "metadata": {},
   "source": [
    "# Send Pan request"
   ]
  },
  {
   "cell_type": "code",
   "execution_count": 12,
   "id": "aa5ec11f",
   "metadata": {},
   "outputs": [],
   "source": [
    "wrapper = MessageWrapper(MessageWrapper.MSGNULL)"
   ]
  },
  {
   "cell_type": "code",
   "execution_count": 13,
   "id": "5a44f14c",
   "metadata": {},
   "outputs": [],
   "source": [
    "encoded_msg = wrapper.wrap_message(1, 20000, msg20000, False)"
   ]
  },
  {
   "cell_type": "code",
   "execution_count": 14,
   "id": "b5cfee2e",
   "metadata": {},
   "outputs": [],
   "source": [
    "num_bytes_tx = sock_tx.sendto(encoded_msg, mc_tx)"
   ]
  },
  {
   "cell_type": "code",
   "execution_count": 15,
   "id": "b8a37aef",
   "metadata": {},
   "outputs": [
    {
     "name": "stdout",
     "output_type": "stream",
     "text": [
      "60\n"
     ]
    }
   ],
   "source": [
    "print(num_bytes_tx)"
   ]
  },
  {
   "cell_type": "markdown",
   "id": "95706ce3",
   "metadata": {},
   "source": [
    "#### Wait for response"
   ]
  }
 ],
 "metadata": {
  "interpreter": {
   "hash": "916dbcbb3f70747c44a77c7bcd40155683ae19c65e1c03b4aa3499c5328201f1"
  },
  "kernelspec": {
   "display_name": "Python 3 (ipykernel)",
   "language": "python",
   "name": "python3"
  },
  "language_info": {
   "codemirror_mode": {
    "name": "ipython",
    "version": 3
   },
   "file_extension": ".py",
   "mimetype": "text/x-python",
   "name": "python",
   "nbconvert_exporter": "python",
   "pygments_lexer": "ipython3",
   "version": "3.8.10"
  }
 },
 "nbformat": 4,
 "nbformat_minor": 5
}
