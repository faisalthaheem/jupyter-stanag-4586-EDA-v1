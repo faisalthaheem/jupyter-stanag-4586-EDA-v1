{
 "cells": [
  {
   "cell_type": "markdown",
   "id": "c522efbf",
   "metadata": {},
   "source": [
    "#### Import dependencies"
   ]
  },
  {
   "cell_type": "code",
   "execution_count": 1,
   "id": "cce20eee",
   "metadata": {},
   "outputs": [],
   "source": [
    "%run common-network.ipynb"
   ]
  },
  {
   "cell_type": "code",
   "execution_count": 2,
   "id": "74d5a7f2",
   "metadata": {},
   "outputs": [],
   "source": [
    "from stanag4586edav1.message_wrapper import *\n",
    "from stanag4586edav1.message01 import *"
   ]
  },
  {
   "cell_type": "markdown",
   "id": "a81e6a91",
   "metadata": {},
   "source": [
    "#### SEND 01 Monitor MESSAGE"
   ]
  },
  {
   "cell_type": "code",
   "execution_count": 3,
   "id": "4709467d",
   "metadata": {},
   "outputs": [],
   "source": [
    "setup_networking(2.0)"
   ]
  },
  {
   "cell_type": "code",
   "execution_count": 4,
   "id": "44b2fbcb",
   "metadata": {},
   "outputs": [],
   "source": [
    "msg01 = Message01(Message01.MSGNULL)"
   ]
  },
  {
   "cell_type": "code",
   "execution_count": 5,
   "id": "88bff04b",
   "metadata": {},
   "outputs": [],
   "source": [
    "msg01.time_stamp = 0x00\n",
    "msg01.vehicle_id = 0x01\n",
    "msg01.cucs_id = 0xA0\n",
    "msg01.vsm_id = 0x00\n",
    "msg01.data_link_id = 0x00\n",
    "msg01.vehicle_type = 0x00\n",
    "msg01.vehicle_sub_type = 0x00\n",
    "msg01.controlled_station = 0x00\n",
    "msg01.wait_for_vehicle_data_link_transition_coordination_message = 0x00"
   ]
  },
  {
   "cell_type": "markdown",
   "id": "fe4d4c2c",
   "metadata": {},
   "source": [
    "# Send monitor request"
   ]
  },
  {
   "cell_type": "code",
   "execution_count": 6,
   "id": "83d0e252",
   "metadata": {},
   "outputs": [],
   "source": [
    "msg01.requested_handover_loi = Message01.LOI_05\n",
    "msg01.controlled_station_mode = 0x01"
   ]
  },
  {
   "cell_type": "code",
   "execution_count": 7,
   "id": "ae5bdfe4",
   "metadata": {},
   "outputs": [],
   "source": [
    "wrapper = MessageWrapper(MessageWrapper.MSGNULL)"
   ]
  },
  {
   "cell_type": "code",
   "execution_count": 8,
   "id": "9f404422",
   "metadata": {},
   "outputs": [],
   "source": [
    "encoded_msg = wrapper.wrap_message(1, 0x01, msg01, False)"
   ]
  },
  {
   "cell_type": "code",
   "execution_count": 9,
   "id": "2bea4b90",
   "metadata": {},
   "outputs": [],
   "source": [
    "num_bytes_tx = sock_tx.sendto(encoded_msg, mc_tx)"
   ]
  },
  {
   "cell_type": "code",
   "execution_count": 10,
   "id": "992aa7d2",
   "metadata": {},
   "outputs": [
    {
     "name": "stdout",
     "output_type": "stream",
     "text": [
      "65\n"
     ]
    }
   ],
   "source": [
    "print(num_bytes_tx)"
   ]
  },
  {
   "cell_type": "markdown",
   "id": "82e98f84",
   "metadata": {},
   "source": [
    "#### Wait for response"
   ]
  },
  {
   "cell_type": "code",
   "execution_count": 11,
   "id": "e8096e38",
   "metadata": {},
   "outputs": [
    {
     "name": "stdout",
     "output_type": "stream",
     "text": [
      "Begin waiting for [1] messages\n",
      "Got message [21]\n",
      "End waiting for [1] messages\n"
     ]
    }
   ],
   "source": [
    "response = do_rx(1)"
   ]
  },
  {
   "cell_type": "markdown",
   "id": "34413365",
   "metadata": {},
   "source": [
    "# Send stop monitoring request"
   ]
  },
  {
   "cell_type": "code",
   "execution_count": 12,
   "id": "3a5018e5",
   "metadata": {},
   "outputs": [],
   "source": [
    "msg01.requested_handover_loi = Message01.LOI_05\n",
    "msg01.controlled_station_mode = 0x00"
   ]
  },
  {
   "cell_type": "code",
   "execution_count": 13,
   "id": "401ded1c",
   "metadata": {},
   "outputs": [],
   "source": [
    "wrapper = MessageWrapper(MessageWrapper.MSGNULL)"
   ]
  },
  {
   "cell_type": "code",
   "execution_count": 14,
   "id": "00185ed4",
   "metadata": {},
   "outputs": [],
   "source": [
    "encoded_msg = wrapper.wrap_message(1, 0x01, msg01, False)"
   ]
  },
  {
   "cell_type": "code",
   "execution_count": 15,
   "id": "6550d876",
   "metadata": {},
   "outputs": [],
   "source": [
    "num_bytes_tx = sock_tx.sendto(encoded_msg, mc_tx)"
   ]
  },
  {
   "cell_type": "code",
   "execution_count": 16,
   "id": "d5d0de8b",
   "metadata": {},
   "outputs": [
    {
     "name": "stdout",
     "output_type": "stream",
     "text": [
      "65\n"
     ]
    }
   ],
   "source": [
    "print(num_bytes_tx)"
   ]
  },
  {
   "cell_type": "markdown",
   "id": "2f743ebc",
   "metadata": {},
   "source": [
    "#### Wait for response"
   ]
  },
  {
   "cell_type": "code",
   "execution_count": 17,
   "id": "3f16edec",
   "metadata": {},
   "outputs": [
    {
     "name": "stdout",
     "output_type": "stream",
     "text": [
      "Begin waiting for [1] messages\n",
      "Got message [21]\n",
      "End waiting for [1] messages\n"
     ]
    }
   ],
   "source": [
    "response = do_rx(1)"
   ]
  },
  {
   "cell_type": "code",
   "execution_count": null,
   "id": "ca62bc19",
   "metadata": {},
   "outputs": [],
   "source": []
  }
 ],
 "metadata": {
  "interpreter": {
   "hash": "916dbcbb3f70747c44a77c7bcd40155683ae19c65e1c03b4aa3499c5328201f1"
  },
  "kernelspec": {
   "display_name": "Python 3 (ipykernel)",
   "language": "python",
   "name": "python3"
  },
  "language_info": {
   "codemirror_mode": {
    "name": "ipython",
    "version": 3
   },
   "file_extension": ".py",
   "mimetype": "text/x-python",
   "name": "python",
   "nbconvert_exporter": "python",
   "pygments_lexer": "ipython3",
   "version": "3.8.10"
  }
 },
 "nbformat": 4,
 "nbformat_minor": 5
}
