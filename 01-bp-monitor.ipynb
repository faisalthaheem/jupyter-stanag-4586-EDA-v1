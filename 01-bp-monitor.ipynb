{
 "cells": [
  {
   "cell_type": "markdown",
   "id": "72b8c9aa",
   "metadata": {},
   "source": [
    "#### Import dependencies"
   ]
  },
  {
   "cell_type": "code",
   "execution_count": 37,
   "id": "0cc0fbdc",
   "metadata": {},
   "outputs": [],
   "source": [
    "%run common-network.ipynb"
   ]
  },
  {
   "cell_type": "code",
   "execution_count": 38,
   "id": "4d6abfa8",
   "metadata": {},
   "outputs": [],
   "source": [
    "from stanag4586edav1.message_wrapper import *\n",
    "from stanag4586edav1.message01 import *"
   ]
  },
  {
   "cell_type": "markdown",
   "id": "1f5afeff",
   "metadata": {},
   "source": [
    "#### SEND 01 Monitor MESSAGE"
   ]
  },
  {
   "cell_type": "code",
   "execution_count": 39,
   "id": "2a2f75e3",
   "metadata": {},
   "outputs": [],
   "source": [
    "setup_networking(2.0)"
   ]
  },
  {
   "cell_type": "code",
   "execution_count": 40,
   "id": "70bf7af7",
   "metadata": {},
   "outputs": [],
   "source": [
    "msg01 = Message01(Message01.MSGNULL)"
   ]
  },
  {
   "cell_type": "code",
   "execution_count": 41,
   "id": "85c7e13c",
   "metadata": {},
   "outputs": [],
   "source": [
    "msg01.time_stamp = 0x00\n",
    "msg01.vehicle_id = 0x01\n",
    "msg01.cucs_id = 0xA0\n",
    "msg01.vsm_id = 0x00\n",
    "msg01.data_link_id = 0x00\n",
    "msg01.vehicle_type = 0x00\n",
    "msg01.vehicle_sub_type = 0x00\n",
    "msg01.controlled_station = 0x00\n",
    "msg01.wait_for_vehicle_data_link_transition_coordination_message = 0x00"
   ]
  },
  {
   "cell_type": "markdown",
   "id": "e1e6d5e4",
   "metadata": {},
   "source": [
    "# Send monitor request"
   ]
  },
  {
   "cell_type": "code",
   "execution_count": 42,
   "id": "dc5bc205",
   "metadata": {},
   "outputs": [],
   "source": [
    "msg01.requested_handover_loi = Message01.LOI_02\n",
    "msg01.controlled_station_mode = 0x01"
   ]
  },
  {
   "cell_type": "code",
   "execution_count": 43,
   "id": "aa5ddc02",
   "metadata": {},
   "outputs": [],
   "source": [
    "wrapper = MessageWrapper(MessageWrapper.MSGNULL)"
   ]
  },
  {
   "cell_type": "code",
   "execution_count": 44,
   "id": "e4564b6c",
   "metadata": {},
   "outputs": [],
   "source": [
    "encoded_msg = wrapper.wrap_message(1, 0x01, msg01, False)"
   ]
  },
  {
   "cell_type": "code",
   "execution_count": 45,
   "id": "fe4028a2",
   "metadata": {},
   "outputs": [],
   "source": [
    "num_bytes_tx = sock_tx.sendto(encoded_msg, mc_tx)"
   ]
  },
  {
   "cell_type": "code",
   "execution_count": 46,
   "id": "90af2c82",
   "metadata": {},
   "outputs": [
    {
     "name": "stdout",
     "output_type": "stream",
     "text": [
      "65\n"
     ]
    }
   ],
   "source": [
    "print(num_bytes_tx)"
   ]
  },
  {
   "cell_type": "markdown",
   "id": "118e53cc",
   "metadata": {},
   "source": [
    "#### Wait for response"
   ]
  },
  {
   "cell_type": "code",
   "execution_count": 47,
   "id": "1a1834df",
   "metadata": {},
   "outputs": [
    {
     "name": "stdout",
     "output_type": "stream",
     "text": [
      "Begin waiting for [1] messages\n",
      "Got message [21]\n",
      "End waiting for [1] messages\n"
     ]
    }
   ],
   "source": [
    "response = do_rx(1)"
   ]
  },
  {
   "cell_type": "markdown",
   "id": "d9b23aed",
   "metadata": {},
   "source": [
    "# Send stop monitoring request"
   ]
  },
  {
   "cell_type": "code",
   "execution_count": 48,
   "id": "f248b17c",
   "metadata": {},
   "outputs": [],
   "source": [
    "msg01.requested_handover_loi = Message01.LOI_02\n",
    "msg01.controlled_station_mode = 0x00"
   ]
  },
  {
   "cell_type": "code",
   "execution_count": 49,
   "id": "ece79fce",
   "metadata": {},
   "outputs": [],
   "source": [
    "wrapper = MessageWrapper(MessageWrapper.MSGNULL)"
   ]
  },
  {
   "cell_type": "code",
   "execution_count": 50,
   "id": "adb89bf0",
   "metadata": {},
   "outputs": [],
   "source": [
    "encoded_msg = wrapper.wrap_message(1, 0x01, msg01, False)"
   ]
  },
  {
   "cell_type": "code",
   "execution_count": 51,
   "id": "9f93c143",
   "metadata": {},
   "outputs": [],
   "source": [
    "num_bytes_tx = sock_tx.sendto(encoded_msg, mc_tx)"
   ]
  },
  {
   "cell_type": "code",
   "execution_count": 52,
   "id": "02cfb689",
   "metadata": {},
   "outputs": [
    {
     "name": "stdout",
     "output_type": "stream",
     "text": [
      "65\n"
     ]
    }
   ],
   "source": [
    "print(num_bytes_tx)"
   ]
  },
  {
   "cell_type": "markdown",
   "id": "d160679c",
   "metadata": {},
   "source": [
    "#### Wait for response"
   ]
  },
  {
   "cell_type": "code",
   "execution_count": 53,
   "id": "1bdddc9a",
   "metadata": {},
   "outputs": [
    {
     "name": "stdout",
     "output_type": "stream",
     "text": [
      "Begin waiting for [1] messages\n",
      "Got message [21]\n",
      "End waiting for [1] messages\n"
     ]
    }
   ],
   "source": [
    "response = do_rx(1)"
   ]
  },
  {
   "cell_type": "code",
   "execution_count": null,
   "id": "b32f9267",
   "metadata": {},
   "outputs": [],
   "source": []
  }
 ],
 "metadata": {
  "interpreter": {
   "hash": "31f2aee4e71d21fbe5cf8b01ff0e069b9275f58929596ceb00d14d90e3e16cd6"
  },
  "kernelspec": {
   "display_name": "Python 3 (ipykernel)",
   "language": "python",
   "name": "python3"
  },
  "language_info": {
   "codemirror_mode": {
    "name": "ipython",
    "version": 3
   },
   "file_extension": ".py",
   "mimetype": "text/x-python",
   "name": "python",
   "nbconvert_exporter": "python",
   "pygments_lexer": "ipython3",
   "version": "3.8.10"
  }
 },
 "nbformat": 4,
 "nbformat_minor": 5
}
