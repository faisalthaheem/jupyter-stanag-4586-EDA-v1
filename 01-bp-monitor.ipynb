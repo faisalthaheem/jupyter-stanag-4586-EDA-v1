{
 "cells": [
  {
   "cell_type": "markdown",
   "id": "2bd6bd38",
   "metadata": {},
   "source": [
    "#### Import dependencies"
   ]
  },
  {
   "cell_type": "code",
   "execution_count": 1,
   "id": "0ce5b508",
   "metadata": {},
   "outputs": [],
   "source": [
    "%run common-network.ipynb"
   ]
  },
  {
   "cell_type": "code",
   "execution_count": 2,
   "id": "a92ad372",
   "metadata": {},
   "outputs": [],
   "source": [
    "from stanag4586edav1.message_wrapper import *\n",
    "from stanag4586edav1.message01 import *"
   ]
  },
  {
   "cell_type": "markdown",
   "id": "8b34c5f6",
   "metadata": {},
   "source": [
    "#### SEND 01 Monitor MESSAGE"
   ]
  },
  {
   "cell_type": "code",
   "execution_count": 3,
   "id": "c16ba943",
   "metadata": {},
   "outputs": [],
   "source": [
    "setup_networking(2.0)"
   ]
  },
  {
   "cell_type": "code",
   "execution_count": 4,
   "id": "f7212ed7",
   "metadata": {},
   "outputs": [],
   "source": [
    "msg01 = Message01(MSG01_NULL)"
   ]
  },
  {
   "cell_type": "code",
   "execution_count": 5,
   "id": "252da2f7",
   "metadata": {},
   "outputs": [],
   "source": [
    "msg01.time_stamp = 0x00\n",
    "msg01.vehicle_id = 0x01\n",
    "msg01.cucs_id = 0xA0\n",
    "msg01.vsm_id = 0x00\n",
    "msg01.data_link_id = 0x00\n",
    "msg01.vehicle_type = 0x00\n",
    "msg01.vehicle_sub_type = 0x00\n",
    "msg01.controlled_station = 0x00\n",
    "msg01.wait_for_vehicle_data_link_transition_coordination_message = 0x00"
   ]
  },
  {
   "cell_type": "markdown",
   "id": "6f087b77",
   "metadata": {},
   "source": [
    "# Send monitor request"
   ]
  },
  {
   "cell_type": "code",
   "execution_count": 6,
   "id": "6b8fa158",
   "metadata": {},
   "outputs": [],
   "source": [
    "msg01.requested_handover_loi = LOI_02\n",
    "msg01.controlled_station_mode = 0x01"
   ]
  },
  {
   "cell_type": "code",
   "execution_count": 7,
   "id": "b05cc69d",
   "metadata": {},
   "outputs": [],
   "source": [
    "wrapper = MessageWrapper(MESSAGE_WRAPPER_NULL)"
   ]
  },
  {
   "cell_type": "code",
   "execution_count": 8,
   "id": "5884ecad",
   "metadata": {},
   "outputs": [],
   "source": [
    "encoded_msg = wrapper.wrap_message(1, 0x01, msg01, False)"
   ]
  },
  {
   "cell_type": "code",
   "execution_count": 9,
   "id": "111ad6d8",
   "metadata": {},
   "outputs": [],
   "source": [
    "num_bytes_tx = sock_tx.sendto(encoded_msg, mc_tx)"
   ]
  },
  {
   "cell_type": "code",
   "execution_count": 10,
   "id": "180b0b23",
   "metadata": {},
   "outputs": [
    {
     "name": "stdout",
     "output_type": "stream",
     "text": [
      "65\n"
     ]
    }
   ],
   "source": [
    "print(num_bytes_tx)"
   ]
  },
  {
   "cell_type": "markdown",
   "id": "e465a1cb",
   "metadata": {},
   "source": [
    "#### Wait for response"
   ]
  },
  {
   "cell_type": "code",
   "execution_count": 11,
   "id": "5b1fd414",
   "metadata": {},
   "outputs": [
    {
     "name": "stdout",
     "output_type": "stream",
     "text": [
      "Begin waiting for [1] messages\n",
      "Got message [21]\n",
      "End waiting for [1] messages\n"
     ]
    }
   ],
   "source": [
    "response = do_rx(1)"
   ]
  },
  {
   "cell_type": "markdown",
   "id": "d4397ed5",
   "metadata": {},
   "source": [
    "# Send stop monitoring request"
   ]
  },
  {
   "cell_type": "code",
   "execution_count": 12,
   "id": "65376cb1",
   "metadata": {},
   "outputs": [],
   "source": [
    "msg01.requested_handover_loi = LOI_02\n",
    "msg01.controlled_station_mode = 0x00"
   ]
  },
  {
   "cell_type": "code",
   "execution_count": 13,
   "id": "f60fe7db",
   "metadata": {},
   "outputs": [],
   "source": [
    "wrapper = MessageWrapper(MESSAGE_WRAPPER_NULL)"
   ]
  },
  {
   "cell_type": "code",
   "execution_count": 14,
   "id": "0ed48b2f",
   "metadata": {},
   "outputs": [],
   "source": [
    "encoded_msg = wrapper.wrap_message(1, 0x01, msg01, False)"
   ]
  },
  {
   "cell_type": "code",
   "execution_count": 15,
   "id": "2399709d",
   "metadata": {},
   "outputs": [],
   "source": [
    "num_bytes_tx = sock_tx.sendto(encoded_msg, mc_tx)"
   ]
  },
  {
   "cell_type": "code",
   "execution_count": 16,
   "id": "7b2d1c8e",
   "metadata": {},
   "outputs": [
    {
     "name": "stdout",
     "output_type": "stream",
     "text": [
      "65\n"
     ]
    }
   ],
   "source": [
    "print(num_bytes_tx)"
   ]
  },
  {
   "cell_type": "markdown",
   "id": "07877c67",
   "metadata": {},
   "source": [
    "#### Wait for response"
   ]
  },
  {
   "cell_type": "code",
   "execution_count": 17,
   "id": "04d2ea99",
   "metadata": {},
   "outputs": [
    {
     "name": "stdout",
     "output_type": "stream",
     "text": [
      "Begin waiting for [1] messages\n",
      "Got message [21]\n",
      "End waiting for [1] messages\n"
     ]
    }
   ],
   "source": [
    "response = do_rx(1)"
   ]
  },
  {
   "cell_type": "code",
   "execution_count": null,
   "id": "62023819",
   "metadata": {},
   "outputs": [],
   "source": []
  }
 ],
 "metadata": {
  "kernelspec": {
   "display_name": "Python 3",
   "language": "python",
   "name": "python3"
  },
  "language_info": {
   "codemirror_mode": {
    "name": "ipython",
    "version": 3
   },
   "file_extension": ".py",
   "mimetype": "text/x-python",
   "name": "python",
   "nbconvert_exporter": "python",
   "pygments_lexer": "ipython3",
   "version": "3.8.6"
  }
 },
 "nbformat": 4,
 "nbformat_minor": 5
}
