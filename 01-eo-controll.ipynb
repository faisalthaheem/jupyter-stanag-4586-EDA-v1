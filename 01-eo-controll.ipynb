{
 "cells": [
  {
   "cell_type": "markdown",
   "source": [
    "#### Import dependencies"
   ],
   "metadata": {}
  },
  {
   "cell_type": "code",
   "execution_count": 1,
   "source": [
    "%run common-network.ipynb"
   ],
   "outputs": [],
   "metadata": {}
  },
  {
   "cell_type": "code",
   "execution_count": 2,
   "source": [
    "from stanag4586edav1.message_wrapper import *\n",
    "from stanag4586edav1.message01 import *"
   ],
   "outputs": [],
   "metadata": {}
  },
  {
   "cell_type": "markdown",
   "source": [
    "#### SEND 01 Control MESSAGE"
   ],
   "metadata": {}
  },
  {
   "cell_type": "code",
   "execution_count": 3,
   "source": [
    "setup_networking(2.0)"
   ],
   "outputs": [],
   "metadata": {}
  },
  {
   "cell_type": "code",
   "execution_count": 4,
   "source": [
    "msg01 = Message01(Message01.MSGNULL)"
   ],
   "outputs": [],
   "metadata": {}
  },
  {
   "cell_type": "code",
   "execution_count": 23,
   "source": [
    "msg01.time_stamp = 0x00\n",
    "msg01.vehicle_id = 0x00\n",
    "msg01.cucs_id = 0xA0\n",
    "msg01.vsm_id = 0x00\n",
    "msg01.data_link_id = 0x00\n",
    "msg01.vehicle_type = 0x00\n",
    "msg01.vehicle_sub_type = 0x00\n",
    "msg01.controlled_station = 0x01\n",
    "msg01.wait_for_vehicle_data_link_transition_coordination_message = 0x00"
   ],
   "outputs": [],
   "metadata": {}
  },
  {
   "cell_type": "markdown",
   "source": [
    "# Send Control request"
   ],
   "metadata": {}
  },
  {
   "cell_type": "code",
   "execution_count": 43,
   "source": [
    "msg01.requested_handover_loi = Message01.LOI_03\n",
    "msg01.controlled_station_mode = 0x01"
   ],
   "outputs": [],
   "metadata": {}
  },
  {
   "cell_type": "code",
   "execution_count": 44,
   "source": [
    "wrapper = MessageWrapper(MessageWrapper.MSGNULL)"
   ],
   "outputs": [],
   "metadata": {}
  },
  {
   "cell_type": "code",
   "execution_count": 45,
   "source": [
    "encoded_msg = wrapper.wrap_message(1, 0x01, msg01, False)"
   ],
   "outputs": [],
   "metadata": {}
  },
  {
   "cell_type": "code",
   "execution_count": 47,
   "source": [
    "num_bytes_tx = sock_tx.sendto(encoded_msg, mc_tx)"
   ],
   "outputs": [],
   "metadata": {}
  },
  {
   "cell_type": "code",
   "execution_count": 48,
   "source": [
    "print(num_bytes_tx)"
   ],
   "outputs": [
    {
     "output_type": "stream",
     "name": "stdout",
     "text": [
      "65\n"
     ]
    }
   ],
   "metadata": {}
  },
  {
   "cell_type": "markdown",
   "source": [
    "#### Wait for response"
   ],
   "metadata": {}
  },
  {
   "cell_type": "code",
   "execution_count": 51,
   "source": [
    "response = do_rx(1)"
   ],
   "outputs": [
    {
     "output_type": "stream",
     "name": "stdout",
     "text": [
      "Begin waiting for [1] messages\n",
      "Timed out waiting for msg#0, will not wait for any other messages.\n",
      "End waiting for [1] messages\n"
     ]
    }
   ],
   "metadata": {}
  },
  {
   "cell_type": "markdown",
   "source": [
    "# Send stop control request"
   ],
   "metadata": {}
  },
  {
   "cell_type": "code",
   "execution_count": 30,
   "source": [
    "msg01.requested_handover_loi = Message01.LOI_05\n",
    "msg01.controlled_station_mode = 0x00"
   ],
   "outputs": [],
   "metadata": {}
  },
  {
   "cell_type": "code",
   "execution_count": 31,
   "source": [
    "wrapper = MessageWrapper(MessageWrapper.MSGNULL)"
   ],
   "outputs": [],
   "metadata": {}
  },
  {
   "cell_type": "code",
   "execution_count": 32,
   "source": [
    "encoded_msg = wrapper.wrap_message(1, 0x01, msg01, False)"
   ],
   "outputs": [],
   "metadata": {}
  },
  {
   "cell_type": "code",
   "execution_count": 33,
   "source": [
    "num_bytes_tx = sock_tx.sendto(encoded_msg, mc_tx)"
   ],
   "outputs": [],
   "metadata": {}
  },
  {
   "cell_type": "code",
   "execution_count": 34,
   "source": [
    "print(num_bytes_tx)"
   ],
   "outputs": [
    {
     "output_type": "stream",
     "name": "stdout",
     "text": [
      "65\n"
     ]
    }
   ],
   "metadata": {}
  },
  {
   "cell_type": "markdown",
   "source": [
    "#### Wait for response"
   ],
   "metadata": {}
  },
  {
   "cell_type": "code",
   "execution_count": 35,
   "source": [
    "response = do_rx(1)"
   ],
   "outputs": [
    {
     "output_type": "stream",
     "name": "stdout",
     "text": [
      "Begin waiting for [1] messages\n",
      "\n",
      "**[1 of 1] Message Type [21] & payload len [65]**\n",
      "\u001b[35mpyhexdump: 65 bytes\n",
      "ascii characters: GREEN\n",
      "non-ascii: RED\n",
      "\u001b[34mOffset(h) | 00 01 02 03 04 05 06 07 08 09 0A 0B 0C 0D 0E 0F | String\n",
      "--------------------------------------------------------------------------------\u001b[39m\n",
      "\u001b[34m000000000 | \u001b[39m31 32 00 00 00 00 00 00 00 00 00 00 00 01 00 00 \u001b[32m| 12\u001b[31m.\u001b[32m\u001b[31m.\u001b[32m\u001b[31m.\u001b[32m\u001b[31m.\u001b[32m\u001b[31m.\u001b[32m\u001b[31m.\u001b[32m\u001b[31m.\u001b[32m\u001b[31m.\u001b[32m\u001b[31m.\u001b[32m\u001b[31m.\u001b[32m\u001b[31m.\u001b[32m\u001b[31m.\u001b[32m\u001b[31m.\u001b[32m\u001b[31m.\u001b[32m\u001b[39m\n",
      "\u001b[34m000000001 | \u001b[39m00 15 00 00 00 23 00 00 00 00 00 00 00 00 00 00 \u001b[32m| \u001b[31m.\u001b[32m\u001b[31m.\u001b[32m\u001b[31m.\u001b[32m\u001b[31m.\u001b[32m\u001b[31m.\u001b[32m#\u001b[31m.\u001b[32m\u001b[31m.\u001b[32m\u001b[31m.\u001b[32m\u001b[31m.\u001b[32m\u001b[31m.\u001b[32m\u001b[31m.\u001b[32m\u001b[31m.\u001b[32m\u001b[31m.\u001b[32m\u001b[31m.\u001b[32m\u001b[31m.\u001b[32m\u001b[39m\n",
      "\u001b[34m000000002 | \u001b[39m00 00 00 00 00 00 00 00 00 00 00 00 00 A0 00 00 \u001b[32m| \u001b[31m.\u001b[32m\u001b[31m.\u001b[32m\u001b[31m.\u001b[32m\u001b[31m.\u001b[32m\u001b[31m.\u001b[32m\u001b[31m.\u001b[32m\u001b[31m.\u001b[32m\u001b[31m.\u001b[32m\u001b[31m.\u001b[32m\u001b[31m.\u001b[32m\u001b[31m.\u001b[32m\u001b[31m.\u001b[32m\u001b[31m.\u001b[32m\u001b[31m.\u001b[32m\u001b[31m.\u001b[32m\u001b[31m.\u001b[32m\u001b[39m\n",
      "\u001b[34m000000003 | \u001b[39m00 00 00 00 00 00 01 00 00 00 00 00 00 2A F8 03 \u001b[32m| \u001b[31m.\u001b[32m\u001b[31m.\u001b[32m\u001b[31m.\u001b[32m\u001b[31m.\u001b[32m\u001b[31m.\u001b[32m\u001b[31m.\u001b[32m\u001b[31m.\u001b[32m\u001b[31m.\u001b[32m\u001b[31m.\u001b[32m\u001b[31m.\u001b[32m\u001b[31m.\u001b[32m\u001b[31m.\u001b[32m\u001b[31m.\u001b[32m*\u001b[31m.\u001b[32m\u001b[31m.\u001b[32m\u001b[39m\n",
      "End waiting for [1] messages\n"
     ]
    }
   ],
   "metadata": {}
  },
  {
   "cell_type": "code",
   "execution_count": null,
   "source": [],
   "outputs": [],
   "metadata": {}
  }
 ],
 "metadata": {
  "interpreter": {
   "hash": "916dbcbb3f70747c44a77c7bcd40155683ae19c65e1c03b4aa3499c5328201f1"
  },
  "kernelspec": {
   "display_name": "Python 3 (ipykernel)",
   "language": "python",
   "name": "python3"
  },
  "language_info": {
   "codemirror_mode": {
    "name": "ipython",
    "version": 3
   },
   "file_extension": ".py",
   "mimetype": "text/x-python",
   "name": "python",
   "nbconvert_exporter": "python",
   "pygments_lexer": "ipython3",
   "version": "3.8.10"
  }
 },
 "nbformat": 4,
 "nbformat_minor": 5
}