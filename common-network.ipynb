{
 "cells": [
  {
   "cell_type": "code",
   "execution_count": 11,
   "metadata": {},
   "outputs": [],
   "source": [
    "import socket\n",
    "import struct\n",
    "import sys"
   ]
  },
  {
   "cell_type": "code",
   "execution_count": null,
   "metadata": {},
   "outputs": [],
   "source": [
    "from stanag4586edav1.message_wrapper import *"
   ]
  },
  {
   "cell_type": "markdown",
   "metadata": {},
   "source": [
    "#### Open socket"
   ]
  },
  {
   "cell_type": "code",
   "execution_count": 12,
   "metadata": {},
   "outputs": [],
   "source": [
    "sock_tx = \"\"\n",
    "sock_rx = \"\"\n",
    "mc_tx = \"\"\n",
    "mc_rx = \"\""
   ]
  },
  {
   "cell_type": "code",
   "execution_count": 14,
   "metadata": {},
   "outputs": [],
   "source": [
    "def setup_networking(rx_timeout = 2.0):\n",
    "    \n",
    "    global sock_tx, sock_rx, mc_tx, mc_rx\n",
    "    \n",
    "    ttl = struct.pack('b',1)\n",
    "    \n",
    "    mc_tx = ('224.10.10.10', 4586)\n",
    "    sock_tx = socket.socket(socket.AF_INET, socket.SOCK_DGRAM)\n",
    "    sock_tx.setsockopt(socket.IPPROTO_IP, socket.IP_MULTICAST_TTL, ttl)\n",
    "\n",
    "    mc_rx = '224.10.10.10'\n",
    "    sock_rx = socket.socket(socket.AF_INET, socket.SOCK_DGRAM)\n",
    "    sock_rx.settimeout(rx_timeout)\n",
    "    group = socket.inet_aton(mc_rx)\n",
    "    mreq = struct.pack('4sL', group, socket.INADDR_ANY)\n",
    "    sock_rx.setsockopt(socket.IPPROTO_IP, socket.IP_ADD_MEMBERSHIP, mreq)\n",
    "    sock_rx.setsockopt(socket.SOL_SOCKET, socket.SO_REUSEADDR, 1)\n",
    "    sock_rx.setsockopt(socket.SOL_SOCKET, socket.SO_REUSEPORT, 1)\n",
    "\n",
    "    sock_rx.bind(('', 4587))\n"
   ]
  },
  {
   "cell_type": "markdown",
   "metadata": {},
   "source": [
    "#### Wait for response"
   ]
  },
  {
   "cell_type": "code",
   "execution_count": 10,
   "metadata": {},
   "outputs": [],
   "source": [
    "def do_rx(num_msgs_to_expect = 1):\n",
    "    print(\"Begin waiting for [{}] messages\".format(num_msgs_to_expect))\n",
    "    data = \"\"\n",
    "    \n",
    "    for i in range(0, num_msgs_to_expect):\n",
    "        try:\n",
    "            data, sender_address = sock_rx.recvfrom(1000)\n",
    "            wrapper = MessageWrapper(data)\n",
    "            print(\"Got message [{}]\".format(wrapper.message_type))\n",
    "\n",
    "        except socket.timeout:\n",
    "            print(\"Timed out waiting for msg#{}, will not wait for any other messages.\".format(i))\n",
    "            break\n",
    "    \n",
    "    print(\"End waiting for [{}] messages\".format(num_msgs_to_expect))\n",
    "    \n",
    "    return data"
   ]
  },
  {
   "cell_type": "code",
   "execution_count": null,
   "metadata": {},
   "outputs": [],
   "source": []
  }
 ],
 "metadata": {
  "interpreter": {
   "hash": "31f2aee4e71d21fbe5cf8b01ff0e069b9275f58929596ceb00d14d90e3e16cd6"
  },
  "kernelspec": {
   "display_name": "Python 3.8.10 64-bit",
   "name": "python3"
  },
  "language_info": {
   "name": "python",
   "version": ""
  }
 },
 "nbformat": 4,
 "nbformat_minor": 5
}