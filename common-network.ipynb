{
 "cells": [
  {
   "cell_type": "code",
   "execution_count": 1,
   "id": "544b17e4",
   "metadata": {},
   "outputs": [],
   "source": [
    "import socket\n",
    "import struct\n",
    "import sys\n",
    "from pyhexdump import hexdump"
   ]
  },
  {
   "cell_type": "code",
   "execution_count": null,
   "id": "68aab1eb",
   "metadata": {},
   "outputs": [],
   "source": [
    "from stanag4586edav1.message_wrapper import *"
   ]
  },
  {
   "cell_type": "markdown",
   "id": "89e96776",
   "metadata": {},
   "source": [
    "#### Open socket"
   ]
  },
  {
   "cell_type": "code",
   "execution_count": 12,
   "id": "bbf887b5",
   "metadata": {},
   "outputs": [],
   "source": [
    "sock_tx = \"\"\n",
    "sock_rx = \"\"\n",
    "mc_tx = \"\"\n",
    "mc_rx = \"\""
   ]
  },
  {
   "cell_type": "code",
   "execution_count": 14,
   "id": "9f565970",
   "metadata": {},
   "outputs": [],
   "source": [
    "def setup_networking(rx_timeout = 2.0):\n",
    "    \n",
    "    global sock_tx, sock_rx, mc_tx, mc_rx\n",
    "    \n",
    "    ttl = struct.pack('b',1)\n",
    "    \n",
    "    mc_tx = ('224.10.10.10', 4586)\n",
    "    sock_tx = socket.socket(socket.AF_INET, socket.SOCK_DGRAM)\n",
    "    sock_tx.setsockopt(socket.IPPROTO_IP, socket.IP_MULTICAST_TTL, ttl)\n",
    "\n",
    "    mc_rx = '224.10.10.10'\n",
    "    sock_rx = socket.socket(socket.AF_INET, socket.SOCK_DGRAM)\n",
    "    sock_rx.settimeout(rx_timeout)\n",
    "    group = socket.inet_aton(mc_rx)\n",
    "    mreq = struct.pack('4sL', group, socket.INADDR_ANY)\n",
    "    sock_rx.setsockopt(socket.IPPROTO_IP, socket.IP_ADD_MEMBERSHIP, mreq)\n",
    "    sock_rx.setsockopt(socket.SOL_SOCKET, socket.SO_REUSEADDR, 1)\n",
    "    sock_rx.setsockopt(socket.SOL_SOCKET, socket.SO_REUSEPORT, 1)\n",
    "\n",
    "    sock_rx.bind(('', 4587))\n"
   ]
  },
  {
   "cell_type": "markdown",
   "id": "1418b4ff",
   "metadata": {},
   "source": [
    "#### Wait for response"
   ]
  },
  {
   "cell_type": "code",
   "execution_count": 2,
   "id": "355529be",
   "metadata": {},
   "outputs": [],
   "source": [
    "def do_rx(num_msgs_to_expect = 1):\n",
    "    print(\"Begin waiting for [{}] messages\".format(num_msgs_to_expect))\n",
    "    data = \"\"\n",
    "    \n",
    "    for i in range(0, num_msgs_to_expect):\n",
    "        try:\n",
    "            data, sender_address = sock_rx.recvfrom(550)\n",
    "            \n",
    "            wrapper = MessageWrapper(data)\n",
    "            payload_len = MessageWrapper.MSGLEN + wrapper.message_length\n",
    "            \n",
    "            print(\n",
    "                \"\\n**[{} of {}] Message Type [{}] & payload len [{}]**\".format(\n",
    "                    (i+1), \n",
    "                    num_msgs_to_expect, \n",
    "                    wrapper.message_type, \n",
    "                    payload_len\n",
    "                )\n",
    "            )\n",
    "            \n",
    "            hexdump(data[:payload_len])\n",
    "\n",
    "        except socket.timeout:\n",
    "            print(\"Timed out waiting for msg#{}, will not wait for any other messages.\".format(i))\n",
    "            break\n",
    "    \n",
    "    print(\"End waiting for [{}] messages\".format(num_msgs_to_expect))\n",
    "    \n",
    "    return data"
   ]
  },
  {
   "cell_type": "code",
   "execution_count": null,
   "id": "7015f27a",
   "metadata": {},
   "outputs": [],
   "source": []
  }
 ],
 "metadata": {
  "interpreter": {
   "hash": "31f2aee4e71d21fbe5cf8b01ff0e069b9275f58929596ceb00d14d90e3e16cd6"
  },
  "kernelspec": {
   "display_name": "Python 3 (ipykernel)",
   "language": "python",
   "name": "python3"
  },
  "language_info": {
   "codemirror_mode": {
    "name": "ipython",
    "version": 3
   },
   "file_extension": ".py",
   "mimetype": "text/x-python",
   "name": "python",
   "nbconvert_exporter": "python",
   "pygments_lexer": "ipython3",
   "version": "3.8.10"
  }
 },
 "nbformat": 4,
 "nbformat_minor": 5
}
