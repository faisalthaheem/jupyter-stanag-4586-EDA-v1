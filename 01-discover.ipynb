{
 "cells": [
  {
   "cell_type": "markdown",
   "id": "1550669d",
   "metadata": {},
   "source": [
    "#### Import dependencies"
   ]
  },
  {
   "cell_type": "code",
   "execution_count": 51,
   "id": "5796630d",
   "metadata": {},
   "outputs": [],
   "source": [
    "%run common-network.ipynb"
   ]
  },
  {
   "cell_type": "code",
   "execution_count": 52,
   "id": "380d88e8",
   "metadata": {},
   "outputs": [],
   "source": [
    "from stanag4586edav1.message_wrapper import *\n",
    "from stanag4586edav1.message01 import *"
   ]
  },
  {
   "cell_type": "markdown",
   "id": "efb3b33a",
   "metadata": {},
   "source": [
    "#### SEND 01 DISCOVER MESSAGE"
   ]
  },
  {
   "cell_type": "code",
   "execution_count": 53,
   "id": "b7ed4341",
   "metadata": {},
   "outputs": [],
   "source": [
    "setup_networking(2.0)"
   ]
  },
  {
   "cell_type": "code",
   "execution_count": 54,
   "id": "8e80946f",
   "metadata": {},
   "outputs": [],
   "source": [
    "msg01 = Message01(Message01.MSGNULL)"
   ]
  },
  {
   "cell_type": "code",
   "execution_count": 55,
   "id": "bc4001a5",
   "metadata": {},
   "outputs": [],
   "source": [
    "msg01.make_discovery_message(0xFAFAFAFA)"
   ]
  },
  {
   "cell_type": "code",
   "execution_count": 56,
   "id": "5a94eabd",
   "metadata": {},
   "outputs": [],
   "source": [
    "wrapper = MessageWrapper(MessageWrapper.MSGNULL)"
   ]
  },
  {
   "cell_type": "code",
   "execution_count": 57,
   "id": "ba39bb66",
   "metadata": {},
   "outputs": [],
   "source": [
    "encoded_msg = wrapper.wrap_message(1, 0x01, msg01, False)"
   ]
  },
  {
   "cell_type": "code",
   "execution_count": 58,
   "id": "256eee1e",
   "metadata": {},
   "outputs": [],
   "source": [
    "num_bytes_tx = sock_tx.sendto(encoded_msg, mc_tx)"
   ]
  },
  {
   "cell_type": "code",
   "execution_count": 59,
   "id": "7946c26f",
   "metadata": {},
   "outputs": [
    {
     "name": "stdout",
     "output_type": "stream",
     "text": [
      "65\n"
     ]
    }
   ],
   "source": [
    "print(num_bytes_tx)"
   ]
  },
  {
   "cell_type": "markdown",
   "id": "251522b1",
   "metadata": {},
   "source": [
    "#### Wait for response"
   ]
  },
  {
   "cell_type": "code",
   "execution_count": 60,
   "id": "80c28fc3",
   "metadata": {},
   "outputs": [
    {
     "name": "stdout",
     "output_type": "stream",
     "text": [
      "Begin waiting for [4] messages\n",
      "\n",
      "**[1 of 4] Message Type [21] & payload len [65]**\n",
      "\u001b[35mpyhexdump: 65 bytes\n",
      "ascii characters: GREEN\n",
      "non-ascii: RED\n",
      "\u001b[34mOffset(h) | 00 01 02 03 04 05 06 07 08 09 0A 0B 0C 0D 0E 0F | String\n",
      "--------------------------------------------------------------------------------\u001b[39m\n",
      "\u001b[34m000000000 | \u001b[39m31 32 00 00 00 00 00 00 00 00 00 00 00 01 00 00 \u001b[32m| 12\u001b[31m.\u001b[32m\u001b[31m.\u001b[32m\u001b[31m.\u001b[32m\u001b[31m.\u001b[32m\u001b[31m.\u001b[32m\u001b[31m.\u001b[32m\u001b[31m.\u001b[32m\u001b[31m.\u001b[32m\u001b[31m.\u001b[32m\u001b[31m.\u001b[32m\u001b[31m.\u001b[32m\u001b[31m.\u001b[32m\u001b[31m.\u001b[32m\u001b[31m.\u001b[32m\u001b[39m\n",
      "\u001b[34m000000001 | \u001b[39m00 15 00 00 00 23 00 00 00 00 00 00 00 00 00 00 \u001b[32m| \u001b[31m.\u001b[32m\u001b[31m.\u001b[32m\u001b[31m.\u001b[32m\u001b[31m.\u001b[32m\u001b[31m.\u001b[32m#\u001b[31m.\u001b[32m\u001b[31m.\u001b[32m\u001b[31m.\u001b[32m\u001b[31m.\u001b[32m\u001b[31m.\u001b[32m\u001b[31m.\u001b[32m\u001b[31m.\u001b[32m\u001b[31m.\u001b[32m\u001b[31m.\u001b[32m\u001b[31m.\u001b[32m\u001b[39m\n",
      "\u001b[34m000000002 | \u001b[39m00 00 00 00 00 00 00 00 00 01 FA FA FA FA 00 00 \u001b[32m| \u001b[31m.\u001b[32m\u001b[31m.\u001b[32m\u001b[31m.\u001b[32m\u001b[31m.\u001b[32m\u001b[31m.\u001b[32m\u001b[31m.\u001b[32m\u001b[31m.\u001b[32m\u001b[31m.\u001b[32m\u001b[31m.\u001b[32m\u001b[31m.\u001b[32m\u001b[31m.\u001b[32m\u001b[31m.\u001b[32m\u001b[31m.\u001b[32m\u001b[31m.\u001b[32m\u001b[31m.\u001b[32m\u001b[31m.\u001b[32m\u001b[39m\n",
      "\u001b[34m000000003 | \u001b[39m00 01 00 00 00 00 01 00 00 00 00 00 00 00 00 00 \u001b[32m| \u001b[31m.\u001b[32m\u001b[31m.\u001b[32m\u001b[31m.\u001b[32m\u001b[31m.\u001b[32m\u001b[31m.\u001b[32m\u001b[31m.\u001b[32m\u001b[31m.\u001b[32m\u001b[31m.\u001b[32m\u001b[31m.\u001b[32m\u001b[31m.\u001b[32m\u001b[31m.\u001b[32m\u001b[31m.\u001b[32m\u001b[31m.\u001b[32m\u001b[31m.\u001b[32m\u001b[31m.\u001b[32m\u001b[31m.\u001b[32m\u001b[39m\n",
      "\n",
      "**[2 of 4] Message Type [20] & payload len [129]**\n",
      "\u001b[35mpyhexdump: 129 bytes\n",
      "ascii characters: GREEN\n",
      "non-ascii: RED\n",
      "\u001b[34mOffset(h) | 00 01 02 03 04 05 06 07 08 09 0A 0B 0C 0D 0E 0F | String\n",
      "--------------------------------------------------------------------------------\u001b[39m\n",
      "\u001b[34m000000000 | \u001b[39m31 32 00 00 00 00 00 00 00 00 00 00 00 01 00 00 \u001b[32m| 12\u001b[31m.\u001b[32m\u001b[31m.\u001b[32m\u001b[31m.\u001b[32m\u001b[31m.\u001b[32m\u001b[31m.\u001b[32m\u001b[31m.\u001b[32m\u001b[31m.\u001b[32m\u001b[31m.\u001b[32m\u001b[31m.\u001b[32m\u001b[31m.\u001b[32m\u001b[31m.\u001b[32m\u001b[31m.\u001b[32m\u001b[31m.\u001b[32m\u001b[31m.\u001b[32m\u001b[39m\n",
      "\u001b[34m000000001 | \u001b[39m00 14 00 00 00 63 00 00 00 00 00 00 00 00 00 00 \u001b[32m| \u001b[31m.\u001b[32m\u001b[31m.\u001b[32m\u001b[31m.\u001b[32m\u001b[31m.\u001b[32m\u001b[31m.\u001b[32mc\u001b[31m.\u001b[32m\u001b[31m.\u001b[32m\u001b[31m.\u001b[32m\u001b[31m.\u001b[32m\u001b[31m.\u001b[32m\u001b[31m.\u001b[32m\u001b[31m.\u001b[32m\u001b[31m.\u001b[32m\u001b[31m.\u001b[32m\u001b[31m.\u001b[32m\u001b[39m\n",
      "\u001b[34m000000002 | \u001b[39m00 00 00 00 00 00 00 00 00 01 FA FA FA FA 00 00 \u001b[32m| \u001b[31m.\u001b[32m\u001b[31m.\u001b[32m\u001b[31m.\u001b[32m\u001b[31m.\u001b[32m\u001b[31m.\u001b[32m\u001b[31m.\u001b[32m\u001b[31m.\u001b[32m\u001b[31m.\u001b[32m\u001b[31m.\u001b[32m\u001b[31m.\u001b[32m\u001b[31m.\u001b[32m\u001b[31m.\u001b[32m\u001b[31m.\u001b[32m\u001b[31m.\u001b[32m\u001b[31m.\u001b[32m\u001b[31m.\u001b[32m\u001b[39m\n",
      "\u001b[34m000000003 | \u001b[39m00 01 00 00 00 00 00 00 00 00 00 31 32 33 34 00 \u001b[32m| \u001b[31m.\u001b[32m\u001b[31m.\u001b[32m\u001b[31m.\u001b[32m\u001b[31m.\u001b[32m\u001b[31m.\u001b[32m\u001b[31m.\u001b[32m\u001b[31m.\u001b[32m\u001b[31m.\u001b[32m\u001b[31m.\u001b[32m\u001b[31m.\u001b[32m\u001b[31m.\u001b[32m1234\u001b[31m.\u001b[32m\u001b[39m\n",
      "\u001b[34m000000004 | \u001b[39m00 00 00 00 00 00 00 00 00 00 00 31 32 33 34 00 \u001b[32m| \u001b[31m.\u001b[32m\u001b[31m.\u001b[32m\u001b[31m.\u001b[32m\u001b[31m.\u001b[32m\u001b[31m.\u001b[32m\u001b[31m.\u001b[32m\u001b[31m.\u001b[32m\u001b[31m.\u001b[32m\u001b[31m.\u001b[32m\u001b[31m.\u001b[32m\u001b[31m.\u001b[32m1234\u001b[31m.\u001b[32m\u001b[39m\n",
      "\u001b[34m000000005 | \u001b[39m00 00 00 00 00 00 00 00 00 00 00 00 00 00 00 31 \u001b[32m| \u001b[31m.\u001b[32m\u001b[31m.\u001b[32m\u001b[31m.\u001b[32m\u001b[31m.\u001b[32m\u001b[31m.\u001b[32m\u001b[31m.\u001b[32m\u001b[31m.\u001b[32m\u001b[31m.\u001b[32m\u001b[31m.\u001b[32m\u001b[31m.\u001b[32m\u001b[31m.\u001b[32m\u001b[31m.\u001b[32m\u001b[31m.\u001b[32m\u001b[31m.\u001b[32m\u001b[31m.\u001b[32m1\u001b[39m\n",
      "\u001b[34m000000006 | \u001b[39m32 33 34 00 00 00 00 00 00 00 00 00 00 00 00 00 \u001b[32m| 234\u001b[31m.\u001b[32m\u001b[31m.\u001b[32m\u001b[31m.\u001b[32m\u001b[31m.\u001b[32m\u001b[31m.\u001b[32m\u001b[31m.\u001b[32m\u001b[31m.\u001b[32m\u001b[31m.\u001b[32m\u001b[31m.\u001b[32m\u001b[31m.\u001b[32m\u001b[31m.\u001b[32m\u001b[31m.\u001b[32m\u001b[31m.\u001b[32m\u001b[39m\n",
      "\u001b[34m000000007 | \u001b[39m00 00 00 00 00 00 00 00 00 00 00 00 00 00 00 AB \u001b[32m| \u001b[31m.\u001b[32m\u001b[31m.\u001b[32m\u001b[31m.\u001b[32m\u001b[31m.\u001b[32m\u001b[31m.\u001b[32m\u001b[31m.\u001b[32m\u001b[31m.\u001b[32m\u001b[31m.\u001b[32m\u001b[31m.\u001b[32m\u001b[31m.\u001b[32m\u001b[31m.\u001b[32m\u001b[31m.\u001b[32m\u001b[31m.\u001b[32m\u001b[31m.\u001b[32m\u001b[31m.\u001b[32m\u001b[31m.\u001b[32m\u001b[39m\n",
      "\n",
      "**[3 of 4] Message Type [21] & payload len [65]**\n",
      "\u001b[35mpyhexdump: 65 bytes\n",
      "ascii characters: GREEN\n",
      "non-ascii: RED\n",
      "\u001b[34mOffset(h) | 00 01 02 03 04 05 06 07 08 09 0A 0B 0C 0D 0E 0F | String\n",
      "--------------------------------------------------------------------------------\u001b[39m\n",
      "\u001b[34m000000000 | \u001b[39m31 32 00 00 00 00 00 00 00 00 00 00 00 01 00 00 \u001b[32m| 12\u001b[31m.\u001b[32m\u001b[31m.\u001b[32m\u001b[31m.\u001b[32m\u001b[31m.\u001b[32m\u001b[31m.\u001b[32m\u001b[31m.\u001b[32m\u001b[31m.\u001b[32m\u001b[31m.\u001b[32m\u001b[31m.\u001b[32m\u001b[31m.\u001b[32m\u001b[31m.\u001b[32m\u001b[31m.\u001b[32m\u001b[31m.\u001b[32m\u001b[31m.\u001b[32m\u001b[39m\n",
      "\u001b[34m000000001 | \u001b[39m00 15 00 00 00 23 00 00 00 00 00 00 00 00 00 00 \u001b[32m| \u001b[31m.\u001b[32m\u001b[31m.\u001b[32m\u001b[31m.\u001b[32m\u001b[31m.\u001b[32m\u001b[31m.\u001b[32m#\u001b[31m.\u001b[32m\u001b[31m.\u001b[32m\u001b[31m.\u001b[32m\u001b[31m.\u001b[32m\u001b[31m.\u001b[32m\u001b[31m.\u001b[32m\u001b[31m.\u001b[32m\u001b[31m.\u001b[32m\u001b[31m.\u001b[32m\u001b[31m.\u001b[32m\u001b[39m\n",
      "\u001b[34m000000002 | \u001b[39m00 00 00 00 00 00 00 00 00 01 FA FA FA FA 00 00 \u001b[32m| \u001b[31m.\u001b[32m\u001b[31m.\u001b[32m\u001b[31m.\u001b[32m\u001b[31m.\u001b[32m\u001b[31m.\u001b[32m\u001b[31m.\u001b[32m\u001b[31m.\u001b[32m\u001b[31m.\u001b[32m\u001b[31m.\u001b[32m\u001b[31m.\u001b[32m\u001b[31m.\u001b[32m\u001b[31m.\u001b[32m\u001b[31m.\u001b[32m\u001b[31m.\u001b[32m\u001b[31m.\u001b[32m\u001b[31m.\u001b[32m\u001b[39m\n",
      "\u001b[34m000000003 | \u001b[39m00 01 00 00 00 00 01 00 00 00 00 01 00 00 00 00 \u001b[32m| \u001b[31m.\u001b[32m\u001b[31m.\u001b[32m\u001b[31m.\u001b[32m\u001b[31m.\u001b[32m\u001b[31m.\u001b[32m\u001b[31m.\u001b[32m\u001b[31m.\u001b[32m\u001b[31m.\u001b[32m\u001b[31m.\u001b[32m\u001b[31m.\u001b[32m\u001b[31m.\u001b[32m\u001b[31m.\u001b[32m\u001b[31m.\u001b[32m\u001b[31m.\u001b[32m\u001b[31m.\u001b[32m\u001b[31m.\u001b[32m\u001b[39m\n",
      "\n",
      "**[4 of 4] Message Type [300] & payload len [61]**\n",
      "\u001b[35mpyhexdump: 61 bytes\n",
      "ascii characters: GREEN\n",
      "non-ascii: RED\n",
      "\u001b[34mOffset(h) | 00 01 02 03 04 05 06 07 08 09 0A 0B 0C 0D 0E 0F | String\n",
      "--------------------------------------------------------------------------------\u001b[39m\n",
      "\u001b[34m000000000 | \u001b[39m31 32 00 00 00 00 00 00 00 00 00 00 00 01 00 00 \u001b[32m| 12\u001b[31m.\u001b[32m\u001b[31m.\u001b[32m\u001b[31m.\u001b[32m\u001b[31m.\u001b[32m\u001b[31m.\u001b[32m\u001b[31m.\u001b[32m\u001b[31m.\u001b[32m\u001b[31m.\u001b[32m\u001b[31m.\u001b[32m\u001b[31m.\u001b[32m\u001b[31m.\u001b[32m\u001b[31m.\u001b[32m\u001b[31m.\u001b[32m\u001b[31m.\u001b[32m\u001b[39m\n",
      "\u001b[34m000000001 | \u001b[39m01 2C 00 00 00 1F 00 00 00 00 00 00 00 00 00 00 \u001b[32m| \u001b[31m.\u001b[32m,\u001b[31m.\u001b[32m\u001b[31m.\u001b[32m\u001b[31m.\u001b[32m\u001b[31m.\u001b[32m\u001b[31m.\u001b[32m\u001b[31m.\u001b[32m\u001b[31m.\u001b[32m\u001b[31m.\u001b[32m\u001b[31m.\u001b[32m\u001b[31m.\u001b[32m\u001b[31m.\u001b[32m\u001b[31m.\u001b[32m\u001b[31m.\u001b[32m\u001b[31m.\u001b[32m\u001b[39m\n",
      "\u001b[34m000000002 | \u001b[39m00 00 00 00 00 00 00 00 00 01 FA FA FA FA 00 00 \u001b[32m| \u001b[31m.\u001b[32m\u001b[31m.\u001b[32m\u001b[31m.\u001b[32m\u001b[31m.\u001b[32m\u001b[31m.\u001b[32m\u001b[31m.\u001b[32m\u001b[31m.\u001b[32m\u001b[31m.\u001b[32m\u001b[31m.\u001b[32m\u001b[31m.\u001b[32m\u001b[31m.\u001b[32m\u001b[31m.\u001b[32m\u001b[31m.\u001b[32m\u001b[31m.\u001b[32m\u001b[31m.\u001b[32m\u001b[31m.\u001b[32m\u001b[39m\n",
      "\u001b[34m000000003 | \u001b[39m00 01 00 00 00 00 00 00 00 01 01 00 00 00 00 00 \u001b[32m| \u001b[31m.\u001b[32m\u001b[31m.\u001b[32m\u001b[31m.\u001b[32m\u001b[31m.\u001b[32m\u001b[31m.\u001b[32m\u001b[31m.\u001b[32m\u001b[31m.\u001b[32m\u001b[31m.\u001b[32m\u001b[31m.\u001b[32m\u001b[31m.\u001b[32m\u001b[31m.\u001b[32m\u001b[31m.\u001b[32m\u001b[31m.\u001b[32m\u001b[31m.\u001b[32m\u001b[31m.\u001b[32m\u001b[31m.\u001b[32m\u001b[39m\n",
      "End waiting for [4] messages\n"
     ]
    }
   ],
   "source": [
    "response = do_rx(4)"
   ]
  },
  {
   "cell_type": "code",
   "execution_count": null,
   "id": "b44ebe6b",
   "metadata": {},
   "outputs": [],
   "source": []
  },
  {
   "cell_type": "code",
   "execution_count": null,
   "id": "70a50140",
   "metadata": {},
   "outputs": [],
   "source": []
  }
 ],
 "metadata": {
  "interpreter": {
   "hash": "31f2aee4e71d21fbe5cf8b01ff0e069b9275f58929596ceb00d14d90e3e16cd6"
  },
  "kernelspec": {
   "display_name": "Python 3 (ipykernel)",
   "language": "python",
   "name": "python3"
  },
  "language_info": {
   "codemirror_mode": {
    "name": "ipython",
    "version": 3
   },
   "file_extension": ".py",
   "mimetype": "text/x-python",
   "name": "python",
   "nbconvert_exporter": "python",
   "pygments_lexer": "ipython3",
   "version": "3.8.10"
  }
 },
 "nbformat": 4,
 "nbformat_minor": 5
}
